{
 "cells": [
  {
   "cell_type": "markdown",
   "metadata": {},
   "source": [
    "### simple linear regression from scratch least square criterion"
   ]
  },
  {
   "cell_type": "code",
   "execution_count": 1,
   "metadata": {},
   "outputs": [],
   "source": [
    "import numpy as np\n",
    "import matplotlib.pyplot as plt\n",
    "import pandas as pd"
   ]
  },
  {
   "cell_type": "code",
   "execution_count": 2,
   "metadata": {},
   "outputs": [
    {
     "data": {
      "text/html": [
       "<div>\n",
       "<style scoped>\n",
       "    .dataframe tbody tr th:only-of-type {\n",
       "        vertical-align: middle;\n",
       "    }\n",
       "\n",
       "    .dataframe tbody tr th {\n",
       "        vertical-align: top;\n",
       "    }\n",
       "\n",
       "    .dataframe thead th {\n",
       "        text-align: right;\n",
       "    }\n",
       "</style>\n",
       "<table border=\"1\" class=\"dataframe\">\n",
       "  <thead>\n",
       "    <tr style=\"text-align: right;\">\n",
       "      <th></th>\n",
       "      <th>Gender</th>\n",
       "      <th>Age Range</th>\n",
       "      <th>Head Size(cm^3)</th>\n",
       "      <th>Brain Weight(grams)</th>\n",
       "    </tr>\n",
       "  </thead>\n",
       "  <tbody>\n",
       "    <tr>\n",
       "      <th>0</th>\n",
       "      <td>1</td>\n",
       "      <td>1</td>\n",
       "      <td>4512</td>\n",
       "      <td>1530</td>\n",
       "    </tr>\n",
       "    <tr>\n",
       "      <th>1</th>\n",
       "      <td>1</td>\n",
       "      <td>1</td>\n",
       "      <td>3738</td>\n",
       "      <td>1297</td>\n",
       "    </tr>\n",
       "    <tr>\n",
       "      <th>2</th>\n",
       "      <td>1</td>\n",
       "      <td>1</td>\n",
       "      <td>4261</td>\n",
       "      <td>1335</td>\n",
       "    </tr>\n",
       "    <tr>\n",
       "      <th>3</th>\n",
       "      <td>1</td>\n",
       "      <td>1</td>\n",
       "      <td>3777</td>\n",
       "      <td>1282</td>\n",
       "    </tr>\n",
       "    <tr>\n",
       "      <th>4</th>\n",
       "      <td>1</td>\n",
       "      <td>1</td>\n",
       "      <td>4177</td>\n",
       "      <td>1590</td>\n",
       "    </tr>\n",
       "  </tbody>\n",
       "</table>\n",
       "</div>"
      ],
      "text/plain": [
       "   Gender  Age Range  Head Size(cm^3)  Brain Weight(grams)\n",
       "0       1          1             4512                 1530\n",
       "1       1          1             3738                 1297\n",
       "2       1          1             4261                 1335\n",
       "3       1          1             3777                 1282\n",
       "4       1          1             4177                 1590"
      ]
     },
     "execution_count": 2,
     "metadata": {},
     "output_type": "execute_result"
    }
   ],
   "source": [
    "#importing the datset and performing data preprocessing \n",
    "raw_data = pd.read_csv(\"../../dataset/dataset.csv\")\n",
    "raw_data.head()"
   ]
  },
  {
   "cell_type": "code",
   "execution_count": 3,
   "metadata": {},
   "outputs": [],
   "source": [
    "x = np.array(raw_data[\"Head Size(cm^3)\"])\n",
    "y = np.array(raw_data[\"Brain Weight(grams)\"])\n",
    "#mean of x and y\n",
    "mean_y = np.mean(y)\n",
    "mean_x = np.mean(x)\n",
    "\n",
    "#calulating numerator and denominator\n",
    "\n",
    "numerator = np.sum((x-mean_x)*(y-mean_y))\n",
    "denominator = np.sum((x-mean_x)**2)\n",
    "#calculating the coeff.\n",
    "B1 = numerator/denominator \n",
    "B0 = mean_y - (B1*mean_x)\n"
   ]
  },
  {
   "cell_type": "code",
   "execution_count": 4,
   "metadata": {},
   "outputs": [
    {
     "data": {
      "image/png": "[encoded data removed]",
      "text/plain": [
       "<Figure size 432x288 with 1 Axes>"
      ]
     },
     "metadata": {
      "needs_background": "light"
     },
     "output_type": "display_data"
    }
   ],
   "source": [
    "# plotting the graph using matplotlib and visulaizing it...\n",
    "plt.scatter(x,y,color='m',marker='o')\n",
    "#plotting the regression line\n",
    "y_pred = (B1*x)+B0\n",
    "plt.plot(x,y_pred,color='#58b970')\n",
    "#adding labels\n",
    "plt.xlabel('x')\n",
    "plt.ylabel('y')\n",
    "#showing plot\n",
    "plt.show()\n"
   ]
  },
  {
   "cell_type": "code",
   "execution_count": 5,
   "metadata": {},
   "outputs": [
    {
     "name": "stdout",
     "output_type": "stream",
     "text": [
      "estimated values are B0:325.5734210494428\n",
      " and B1:0.2634293394893993\n",
      "\n"
     ]
    }
   ],
   "source": [
    "#here we just provide the input value or vector for calculating the coeff\n",
    "#x = np.array([0, 1, 2, 3, 4, 5, 6, 7, 8, 9]) we can use array created by mankind! HAHA\n",
    "#y = np.array([1, 3, 2, 5, 7, 8, 8, 9, 10, 12]) \n",
    "#predicting the sand quality according to the ph value. therefore separating both the columns\n",
    "\n",
    "\n",
    "print(\"estimated values are B0:{}\\n and B1:{}\\n\".format(B0,B1))"
   ]
  },
  {
   "cell_type": "code",
   "execution_count": 10,
   "metadata": {},
   "outputs": [
    {
     "name": "stdout",
     "output_type": "stream",
     "text": [
      "72.1206213783709\n"
     ]
    }
   ],
   "source": [
    "#checking how good our model is i.e., with the help os RMSE and R^2 mehod\n",
    "x_values = raw_data['Head Size(cm^3)'].values\n",
    "y_values = raw_data['Brain Weight(grams)'].values\n",
    "rmse = 0\n",
    "n=len(x)\n",
    "for i in range(n):\n",
    "    y_pred=  B0 + B1* x_values[i]\n",
    "    rmse += (y_values[i] - y_pred) ** 2\n",
    "    \n",
    "rmse = np.sqrt(rmse/n)\n",
    "print(rmse)"
   ]
  },
  {
   "cell_type": "code",
   "execution_count": 8,
   "metadata": {},
   "outputs": [
    {
     "name": "stdout",
     "output_type": "stream",
     "text": [
      "0.6393117199570003\n"
     ]
    }
   ],
   "source": [
    "sumofsquares = 0\n",
    "sumofresiduals = 0\n",
    "y_mean = np.mean(y)\n",
    "n=len(x)\n",
    "for i in range(n) :\n",
    "    y_pred = B0 + B1 * x_values[i]\n",
    "    sumofsquares += (y_values[i] - y_mean) ** 2\n",
    "    sumofresiduals += (y_values[i] - y_pred) **2\n",
    "    \n",
    "score  = 1 - (sumofresiduals/sumofsquares)\n",
    "print(score)"
   ]
  },
  {
   "cell_type": "markdown",
   "metadata": {},
   "source": [
    "##### the above plot is only for training data. Therfore, it's only for fun we'll perform training and testing in multi-linear-regression using library as well as scratch."
   ]
  },
  {
   "cell_type": "code",
   "execution_count": null,
   "metadata": {},
   "outputs": [],
   "source": []
  },
  {
   "cell_type": "code",
   "execution_count": null,
   "metadata": {},
   "outputs": [],
   "source": []
  }
 ],
 "metadata": {
  "kernelspec": {
   "display_name": "Python 3",
   "language": "python",
   "name": "python3"
  },
  "language_info": {
   "codemirror_mode": {
    "name": "ipython",
    "version": 3
   },
   "file_extension": ".py",
   "mimetype": "text/x-python",
   "name": "python",
   "nbconvert_exporter": "python",
   "pygments_lexer": "ipython3",
   "version": "3.7.2"
  }
 },
 "nbformat": 4,
 "nbformat_minor": 2
}
