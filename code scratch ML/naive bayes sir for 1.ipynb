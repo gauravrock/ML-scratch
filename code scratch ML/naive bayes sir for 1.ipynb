{
 "cells": [
  {
   "cell_type": "code",
   "execution_count": 202,
   "metadata": {},
   "outputs": [],
   "source": [
    "import pandas as pd\n",
    "import numpy as np\n",
    "import scipy.stats as s"
   ]
  },
  {
   "cell_type": "code",
   "execution_count": 203,
   "metadata": {},
   "outputs": [],
   "source": [
    "#to import the data from data.csv into pandas DataFrame\n",
    "raw_data = pd.read_csv(\"data.csv\")"
   ]
  },
  {
   "cell_type": "markdown",
   "metadata": {},
   "source": [
    "It is a rule of thumb that 70 % data should be training data and 30 % should be testing data. "
   ]
  },
  {
   "cell_type": "code",
   "execution_count": 204,
   "metadata": {},
   "outputs": [
    {
     "data": {
      "text/plain": [
       "398"
      ]
     },
     "execution_count": 204,
     "metadata": {},
     "output_type": "execute_result"
    }
   ],
   "source": [
    "#separating the 70% data as training data\n",
    "overall_training_data_required = int(len(raw_data) * 0.70)\n",
    "overall_training_data_required"
   ]
  },
  {
   "cell_type": "code",
   "execution_count": 205,
   "metadata": {},
   "outputs": [
    {
     "data": {
      "text/plain": [
       "569"
      ]
     },
     "execution_count": 205,
     "metadata": {},
     "output_type": "execute_result"
    }
   ],
   "source": [
    "over_data_rows = len(raw_data)\n",
    "over_data_rows"
   ]
  },
  {
   "cell_type": "code",
   "execution_count": 206,
   "metadata": {},
   "outputs": [
    {
     "data": {
      "text/plain": [
       "171"
      ]
     },
     "execution_count": 206,
     "metadata": {},
     "output_type": "execute_result"
    }
   ],
   "source": [
    "#separating the testing data by subtracting all testing data from overall data\n",
    "over_all_testing_data_required = over_data_rows - overall_training_data_required\n",
    "over_all_testing_data_required"
   ]
  },
  {
   "cell_type": "code",
   "execution_count": 207,
   "metadata": {},
   "outputs": [
    {
     "data": {
      "text/plain": [
       "212"
      ]
     },
     "execution_count": 207,
     "metadata": {},
     "output_type": "execute_result"
    }
   ],
   "source": [
    "#separing the data acoording to the column 'diagnosis' \n",
    "over_all_malignant = pd.DataFrame(raw_data[raw_data['diagnosis'] == 'M'])\n",
    "len(over_all_malignant)"
   ]
  },
  {
   "cell_type": "code",
   "execution_count": 208,
   "metadata": {},
   "outputs": [],
   "source": [
    "#separating the data acoording to \"diagnosis\" column and separating them  in training data\n",
    "malignant_tumor_training_data = over_all_malignant.iloc[0:199]"
   ]
  },
  {
   "cell_type": "code",
   "execution_count": 209,
   "metadata": {},
   "outputs": [],
   "source": [
    "malignant_tumor_testing_data = over_all_malignant.iloc[199:]"
   ]
  },
  {
   "cell_type": "code",
   "execution_count": 210,
   "metadata": {},
   "outputs": [
    {
     "data": {
      "text/plain": [
       "357"
      ]
     },
     "execution_count": 210,
     "metadata": {},
     "output_type": "execute_result"
    }
   ],
   "source": [
    "over_all_benign = pd.DataFrame(raw_data[raw_data['diagnosis'] == 'B'])\n",
    "len(over_all_benign)"
   ]
  },
  {
   "cell_type": "code",
   "execution_count": 211,
   "metadata": {},
   "outputs": [],
   "source": [
    "benign_tumor_training_data = over_all_benign.iloc[0:199]"
   ]
  },
  {
   "cell_type": "code",
   "execution_count": 212,
   "metadata": {},
   "outputs": [],
   "source": [
    "benign_tumor_testing_data = over_all_benign.iloc[199:]"
   ]
  },
  {
   "cell_type": "code",
   "execution_count": 213,
   "metadata": {},
   "outputs": [],
   "source": [
    "#separating the malignant tumor acoording to the radius mean\n",
    "malignant_tumor_training_data = malignant_tumor_training_data['radius_mean']"
   ]
  },
  {
   "cell_type": "code",
   "execution_count": 214,
   "metadata": {},
   "outputs": [
    {
     "data": {
      "text/plain": [
       "17.356381909547743"
      ]
     },
     "execution_count": 214,
     "metadata": {},
     "output_type": "execute_result"
    }
   ],
   "source": [
    "#finding the mean of the malignant trainign data acoording to radius mean \n",
    "mu_cap_m_radius_mean = malignant_tumor_training_data.mean()\n",
    "mu_cap_m_radius_mean"
   ]
  },
  {
   "cell_type": "code",
   "execution_count": 215,
   "metadata": {},
   "outputs": [],
   "source": [
    "#finding the std. deviation for the malignant tumor training data a.k.a, radius mean\n",
    "sigma_cap_m_radius_mean = malignant_tumor_training_data.std()"
   ]
  },
  {
   "cell_type": "code",
   "execution_count": 216,
   "metadata": {},
   "outputs": [],
   "source": [
    "benign_tumor_training_data = benign_tumor_training_data['radius_mean']"
   ]
  },
  {
   "cell_type": "code",
   "execution_count": 217,
   "metadata": {},
   "outputs": [],
   "source": [
    "#finding the mean of the benign trainign data acoording to radius mean \n",
    "mu_cap_b_radius_mean = benign_tumor_training_data.mean()"
   ]
  },
  {
   "cell_type": "code",
   "execution_count": 218,
   "metadata": {},
   "outputs": [],
   "source": [
    "#finding the std. deviation for the benign tumor training data a.k.a, radius mean\n",
    "sigma_cap_b_radius_mean = benign_tumor_training_data.std()"
   ]
  },
  {
   "cell_type": "code",
   "execution_count": 219,
   "metadata": {},
   "outputs": [],
   "source": [
    "malignant_tumor_testing_data = pd.DataFrame(malignant_tumor_testing_data)"
   ]
  },
  {
   "cell_type": "code",
   "execution_count": 220,
   "metadata": {},
   "outputs": [],
   "source": [
    "benign_tumor_testing_data = pd.DataFrame(benign_tumor_testing_data)"
   ]
  },
  {
   "cell_type": "code",
   "execution_count": 221,
   "metadata": {},
   "outputs": [],
   "source": [
    "#separating the malignant tumor testing data form dataframe using column 'radius mean'\n",
    "malignant_tumor_testing_data = malignant_tumor_testing_data['radius_mean']"
   ]
  },
  {
   "cell_type": "code",
   "execution_count": 222,
   "metadata": {},
   "outputs": [],
   "source": [
    "#eparating the benign tumor testing data form dataframe using column 'radius mean'\n",
    "benign_tumor_testing_data = benign_tumor_testing_data['radius_mean']"
   ]
  },
  {
   "cell_type": "code",
   "execution_count": 223,
   "metadata": {},
   "outputs": [],
   "source": [
    "class_conditional_benign = s.norm.pdf(malignant_tumor_testing_data.iloc[0],\n",
    "                                      mu_cap_b_radius_mean,sigma_cap_b_radius_mean)"
   ]
  },
  {
   "cell_type": "code",
   "execution_count": 224,
   "metadata": {},
   "outputs": [],
   "source": [
    "class_conditional_malignant = s.norm.pdf(malignant_tumor_testing_data.iloc[0],\n",
    "                                        mu_cap_m_radius_mean,sigma_cap_m_radius_mean)"
   ]
  },
  {
   "cell_type": "code",
   "execution_count": 225,
   "metadata": {},
   "outputs": [
    {
     "data": {
      "text/plain": [
       "0.0962409057572784"
      ]
     },
     "execution_count": 225,
     "metadata": {},
     "output_type": "execute_result"
    }
   ],
   "source": [
    "class_conditional_malignant"
   ]
  },
  {
   "cell_type": "code",
   "execution_count": 226,
   "metadata": {},
   "outputs": [],
   "source": [
    "posterior_benign_probability = (class_conditional_benign)/(class_conditional_benign + class_conditional_malignant)"
   ]
  },
  {
   "cell_type": "code",
   "execution_count": 227,
   "metadata": {},
   "outputs": [
    {
     "data": {
      "text/plain": [
       "0.3284541337088524"
      ]
     },
     "execution_count": 227,
     "metadata": {},
     "output_type": "execute_result"
    }
   ],
   "source": [
    "posterior_benign_probability"
   ]
  },
  {
   "cell_type": "code",
   "execution_count": 228,
   "metadata": {},
   "outputs": [],
   "source": [
    "posterior_malignant_probability = (class_conditional_malignant)/(class_conditional_benign + class_conditional_malignant)"
   ]
  },
  {
   "cell_type": "code",
   "execution_count": 229,
   "metadata": {},
   "outputs": [
    {
     "data": {
      "text/plain": [
       "0.6715458662911477"
      ]
     },
     "execution_count": 229,
     "metadata": {},
     "output_type": "execute_result"
    }
   ],
   "source": [
    "posterior_malignant_probability"
   ]
  },
  {
   "cell_type": "code",
   "execution_count": 243,
   "metadata": {},
   "outputs": [],
   "source": [
    "precision_sum = 0\n",
    "recall_sum = 0\n",
    "accuracy_sum = 0\n",
    "\n",
    "for i in range(0,len(malignant_tumor_testing_data)):\n",
    "    \n",
    "    class_conditional_benign = s.norm.pdf(malignant_tumor_testing_data.iloc[i],\n",
    "                                          mu_cap_b_radius_mean,sigma_cap_b_radius_mean)\n",
    "    \n",
    "    class_conditional_malignant = s.norm.pdf(malignant_tumor_testing_data.iloc[i],\n",
    "                                            mu_cap_m_radius_mean,sigma_cap_m_radius_mean)\n",
    "    \n",
    "    total_conditional = (class_conditional_benign + class_conditional_malignant)\n",
    "    \n",
    "    \n",
    "    posterior_benign_probability = class_conditional_benign/total_conditional\n",
    "    \n",
    "    if posterior_benign_probability < 0.5:\n",
    "        \n",
    "        accuracy_sum += 1"
   ]
  },
  {
   "cell_type": "code",
   "execution_count": 244,
   "metadata": {},
   "outputs": [
    {
     "data": {
      "text/plain": [
       "12"
      ]
     },
     "execution_count": 244,
     "metadata": {},
     "output_type": "execute_result"
    }
   ],
   "source": [
    "accuracy_sum"
   ]
  },
  {
   "cell_type": "code",
   "execution_count": 232,
   "metadata": {},
   "outputs": [],
   "source": [
    "for i in range(0,len(benign_tumor_testing_data)):\n",
    "    \n",
    "    class_conditional_benign = s.norm.pdf(benign_tumor_testing_data.iloc[i],\n",
    "                                          mu_cap_b_radius_mean,sigma_cap_b_radius_mean)\n",
    "    \n",
    "    class_conditional_malignant = s.norm.pdf(benign_tumor_testing_data.iloc[i],\n",
    "                                            mu_cap_m_radius_mean,sigma_cap_m_radius_mean)\n",
    "    \n",
    "    total_conditional = (class_conditional_benign + class_conditional_malignant)\n",
    "    \n",
    "    posterior_benign_probability = class_conditional_benign/total_conditional\n",
    "    \n",
    "    if posterior_benign_probability > 0.5:\n",
    "        \n",
    "        accuracy_sum += 1"
   ]
  },
  {
   "cell_type": "code",
   "execution_count": 233,
   "metadata": {},
   "outputs": [
    {
     "data": {
      "text/plain": [
       "148"
      ]
     },
     "execution_count": 233,
     "metadata": {},
     "output_type": "execute_result"
    }
   ],
   "source": [
    "accuracy_sum"
   ]
  },
  {
   "cell_type": "code",
   "execution_count": 234,
   "metadata": {},
   "outputs": [
    {
     "data": {
      "text/plain": [
       "86.54970760233918"
      ]
     },
     "execution_count": 234,
     "metadata": {},
     "output_type": "execute_result"
    }
   ],
   "source": [
    "(148/171)*100"
   ]
  },
  {
   "cell_type": "code",
   "execution_count": 235,
   "metadata": {},
   "outputs": [
    {
     "ename": "SyntaxError",
     "evalue": "invalid syntax (<ipython-input-235-6789ae4ad0a0>, line 1)",
     "output_type": "error",
     "traceback": [
      "\u001b[0;36m  File \u001b[0;32m\"<ipython-input-235-6789ae4ad0a0>\"\u001b[0;36m, line \u001b[0;32m1\u001b[0m\n\u001b[0;31m    precision =\u001b[0m\n\u001b[0m                ^\u001b[0m\n\u001b[0;31mSyntaxError\u001b[0m\u001b[0;31m:\u001b[0m invalid syntax\n"
     ]
    }
   ],
   "source": [
    "precision = "
   ]
  }
 ],
 "metadata": {
  "kernelspec": {
   "display_name": "Python 3",
   "language": "python",
   "name": "python3"
  },
  "language_info": {
   "codemirror_mode": {
    "name": "ipython",
    "version": 3
   },
   "file_extension": ".py",
   "mimetype": "text/x-python",
   "name": "python",
   "nbconvert_exporter": "python",
   "pygments_lexer": "ipython3",
   "version": "3.7.0"
  }
 },
 "nbformat": 4,
 "nbformat_minor": 2
}
